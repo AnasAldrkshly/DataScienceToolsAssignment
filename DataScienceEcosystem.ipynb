{
  "metadata": {
    "language_info": {
      "codemirror_mode": {
        "name": "python",
        "version": 3
      },
      "file_extension": ".py",
      "mimetype": "text/x-python",
      "name": "python",
      "nbconvert_exporter": "python",
      "pygments_lexer": "ipython3",
      "version": "3.8"
    },
    "kernelspec": {
      "name": "python",
      "display_name": "Python (Pyodide)",
      "language": "python"
    }
  },
  "nbformat_minor": 4,
  "nbformat": 4,
  "cells": [
    {
      "cell_type": "markdown",
      "source": "<h1>Data Science Tools and Ecosystem</h1>",
      "metadata": {}
    },
    {
      "cell_type": "markdown",
      "source": "<h2> In this notebook, Data Science Tools and Ecosystem are summarized </h2>",
      "metadata": {}
    },
    {
      "cell_type": "markdown",
      "source": "<h3>Some of the popular languages that Data Scientists use are:</h3>\n<ol>\n<li>Python</li>\n<li>R</li>\n<li>Java</li>\n</ol>",
      "metadata": {}
    },
    {
      "cell_type": "markdown",
      "source": "<h3>Some of the commonly used libraries used by Data Scientists include</h3>\n<ol>\n<li>Pandas</li>\n<li>Matplotlib</li>\n<li>TensorFlow</li>\n<li>Scikit-learn</li>\n</ol>",
      "metadata": {}
    },
    {
      "cell_type": "markdown",
      "source": "<h3> Data Science Tools </h3>\n\n<table style=\"width:20%\">\n    <tr>\n        <th>Name</th>\n    </tr>\n    <tr>\n        <td>RStudio</td>\n    </tr>\n    <tr>\n        <td>TensorFlow</td>\n    </tr>\n    <tr>\n        <td>Apache_Hadoop</td>\n    </tr>\n    <tr>\n        <td>Apache_Spark</td>\n    </tr>\n</table>",
      "metadata": {}
    },
    {
      "cell_type": "markdown",
      "source": "<h3>Below are a few examples of evaluating arithmetic expressions in Python.</h3>\n\n$\\hat{Y} = \\hat{\\beta}_{0} + \\sum \\limits _{j=1} ^{p} X_{j}\\hat{\\beta}_{j} $\n",
      "metadata": {}
    },
    {
      "cell_type": "markdown",
      "source": "<h3> This a simple arithmetic expression to mutiply then add integers </h3>",
      "metadata": {}
    },
    {
      "cell_type": "code",
      "source": "  ( 5 * 2 ) + 7 ",
      "metadata": {
        "trusted": true
      },
      "execution_count": 14,
      "outputs": [
        {
          "execution_count": 14,
          "output_type": "execute_result",
          "data": {
            "text/plain": "17"
          },
          "metadata": {}
        }
      ]
    },
    {
      "cell_type": "markdown",
      "source": "<h3> This will convert 200 minutes to hours by diving by 60 </h3>",
      "metadata": {}
    },
    {
      "cell_type": "code",
      "source": "200 / 60 ",
      "metadata": {
        "trusted": true
      },
      "execution_count": 17,
      "outputs": [
        {
          "execution_count": 17,
          "output_type": "execute_result",
          "data": {
            "text/plain": "3.3333333333333335"
          },
          "metadata": {}
        }
      ]
    },
    {
      "cell_type": "markdown",
      "source": "<h3>List popular languages for Data Science</h3>",
      "metadata": {}
    },
    {
      "cell_type": "markdown",
      "source": "<b>Objectives</b>\n\n<ul>\n<li>Create a Jupyter Notebook with markdown and code cells </li>\n<li>List examples of languages, libraries and tools used in Data Science</li>\n<li>Share your Jupyter Notebook publicly on GitHub</li>\n<li>Evaluate notebooks submitted by your peers using the provided rubric </li>\n</ul>",
      "metadata": {}
    },
    {
      "cell_type": "markdown",
      "source": "<h2> Author </h2>\nAnas Aldarkashly",
      "metadata": {}
    },
    {
      "cell_type": "code",
      "source": "",
      "metadata": {},
      "execution_count": null,
      "outputs": []
    }
  ]
}